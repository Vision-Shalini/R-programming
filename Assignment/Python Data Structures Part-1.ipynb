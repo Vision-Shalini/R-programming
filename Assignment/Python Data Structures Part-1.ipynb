{
 "cells": [
  {
   "cell_type": "markdown",
   "id": "80354d4b",
   "metadata": {},
   "source": [
    "# Data Structures"
   ]
  },
  {
   "cell_type": "markdown",
   "id": "175f78fd",
   "metadata": {},
   "source": [
    "## 1.List\n",
    "- List is the collection  of different data type values.\n",
    "- list is created by [ ].\n",
    "- llist can cantain list with in themself.\n",
    "- In Python indexes start from 0. "
   ]
  },
  {
   "cell_type": "code",
   "execution_count": 1,
   "id": "e5d4ba94",
   "metadata": {},
   "outputs": [],
   "source": [
    "#creating list\n",
    "l=[12,1.2,\"apple\",True,45,78.8,\"banti\"]"
   ]
  },
  {
   "cell_type": "code",
   "execution_count": 2,
   "id": "e21d40fb",
   "metadata": {},
   "outputs": [
    {
     "data": {
      "text/plain": [
       "list"
      ]
     },
     "execution_count": 2,
     "metadata": {},
     "output_type": "execute_result"
    }
   ],
   "source": [
    "type(l)"
   ]
  },
  {
   "cell_type": "markdown",
   "id": "e509fdf6",
   "metadata": {},
   "source": [
    "### Accessing list elements"
   ]
  },
  {
   "cell_type": "code",
   "execution_count": 3,
   "id": "d55d9b1a",
   "metadata": {},
   "outputs": [
    {
     "data": {
      "text/plain": [
       "12"
      ]
     },
     "execution_count": 3,
     "metadata": {},
     "output_type": "execute_result"
    }
   ],
   "source": [
    "#list subsetting\n",
    "l[0]"
   ]
  },
  {
   "cell_type": "code",
   "execution_count": 4,
   "id": "8164fee4",
   "metadata": {},
   "outputs": [
    {
     "data": {
      "text/plain": [
       "78.8"
      ]
     },
     "execution_count": 4,
     "metadata": {},
     "output_type": "execute_result"
    }
   ],
   "source": [
    "l[-2]"
   ]
  },
  {
   "cell_type": "code",
   "execution_count": 5,
   "id": "c6e30987",
   "metadata": {},
   "outputs": [
    {
     "data": {
      "text/plain": [
       "[12, 1.2, 'apple']"
      ]
     },
     "execution_count": 5,
     "metadata": {},
     "output_type": "execute_result"
    }
   ],
   "source": [
    "#list silicing\n",
    "l[0:3]"
   ]
  },
  {
   "cell_type": "code",
   "execution_count": 6,
   "id": "98f9fde2",
   "metadata": {},
   "outputs": [
    {
     "data": {
      "text/plain": [
       "['apple', True, 45, 78.8, 'banti']"
      ]
     },
     "execution_count": 6,
     "metadata": {},
     "output_type": "execute_result"
    }
   ],
   "source": [
    "l[2:]"
   ]
  },
  {
   "cell_type": "markdown",
   "id": "adb631a3",
   "metadata": {},
   "source": [
    "### List Manipulaton"
   ]
  },
  {
   "cell_type": "markdown",
   "id": "dfe121b4",
   "metadata": {},
   "source": [
    "*  **change list element**"
   ]
  },
  {
   "cell_type": "code",
   "execution_count": 7,
   "id": "f4cac695",
   "metadata": {},
   "outputs": [],
   "source": [
    "#change element of list (single value)\n",
    "l[1]=24.5"
   ]
  },
  {
   "cell_type": "code",
   "execution_count": 8,
   "id": "86677cfe",
   "metadata": {},
   "outputs": [
    {
     "data": {
      "text/plain": [
       "[12, 24.5, 'apple', True, 45, 78.8, 'banti']"
      ]
     },
     "execution_count": 8,
     "metadata": {},
     "output_type": "execute_result"
    }
   ],
   "source": [
    "l"
   ]
  },
  {
   "cell_type": "code",
   "execution_count": 9,
   "id": "122d3c1b",
   "metadata": {},
   "outputs": [],
   "source": [
    "# change element of list(multiply values)\n",
    "l[-2:]=[\"Orange\",False]"
   ]
  },
  {
   "cell_type": "code",
   "execution_count": 10,
   "id": "3d91f562",
   "metadata": {},
   "outputs": [
    {
     "data": {
      "text/plain": [
       "[12, 24.5, 'apple', True, 45, 'Orange', False]"
      ]
     },
     "execution_count": 10,
     "metadata": {},
     "output_type": "execute_result"
    }
   ],
   "source": [
    "l"
   ]
  },
  {
   "cell_type": "markdown",
   "id": "67ef954d",
   "metadata": {},
   "source": [
    "* **Add New Element in list**"
   ]
  },
  {
   "cell_type": "code",
   "execution_count": 11,
   "id": "d010918e",
   "metadata": {},
   "outputs": [
    {
     "data": {
      "text/plain": [
       "[12, 24.5, 'apple', True, 45, 'Orange', False]"
      ]
     },
     "execution_count": 11,
     "metadata": {},
     "output_type": "execute_result"
    }
   ],
   "source": [
    "l"
   ]
  },
  {
   "cell_type": "code",
   "execution_count": 12,
   "id": "5af14bc3",
   "metadata": {},
   "outputs": [
    {
     "data": {
      "text/plain": [
       "7"
      ]
     },
     "execution_count": 12,
     "metadata": {},
     "output_type": "execute_result"
    }
   ],
   "source": [
    "#find length of list\n",
    "len(l)"
   ]
  },
  {
   "cell_type": "code",
   "execution_count": 13,
   "id": "4961bf2d",
   "metadata": {},
   "outputs": [],
   "source": [
    "l=l+[\"Banana\"]"
   ]
  },
  {
   "cell_type": "code",
   "execution_count": 14,
   "id": "df658a2d",
   "metadata": {},
   "outputs": [
    {
     "data": {
      "text/plain": [
       "[12, 24.5, 'apple', True, 45, 'Orange', False, 'Banana']"
      ]
     },
     "execution_count": 14,
     "metadata": {},
     "output_type": "execute_result"
    }
   ],
   "source": [
    "l"
   ]
  },
  {
   "cell_type": "code",
   "execution_count": 15,
   "id": "2873633f",
   "metadata": {},
   "outputs": [],
   "source": [
    "l=l+[33,55.7,\"vineet\"]"
   ]
  },
  {
   "cell_type": "code",
   "execution_count": 16,
   "id": "d17c053c",
   "metadata": {},
   "outputs": [
    {
     "data": {
      "text/plain": [
       "[12, 24.5, 'apple', True, 45, 'Orange', False, 'Banana', 33, 55.7, 'vineet']"
      ]
     },
     "execution_count": 16,
     "metadata": {},
     "output_type": "execute_result"
    }
   ],
   "source": [
    "l"
   ]
  },
  {
   "cell_type": "markdown",
   "id": "784ea9a1",
   "metadata": {},
   "source": [
    "* **Remove list element**"
   ]
  },
  {
   "cell_type": "code",
   "execution_count": 17,
   "id": "3aff4d22",
   "metadata": {},
   "outputs": [],
   "source": [
    "#remove single element using subsetting (work with indexes)\n",
    "del(l[-1])"
   ]
  },
  {
   "cell_type": "code",
   "execution_count": 18,
   "id": "17d03eb1",
   "metadata": {},
   "outputs": [
    {
     "data": {
      "text/plain": [
       "[12, 24.5, 'apple', True, 45, 'Orange', False, 'Banana', 33, 55.7]"
      ]
     },
     "execution_count": 18,
     "metadata": {},
     "output_type": "execute_result"
    }
   ],
   "source": [
    "l"
   ]
  },
  {
   "cell_type": "code",
   "execution_count": 19,
   "id": "8c21f637",
   "metadata": {},
   "outputs": [],
   "source": [
    "#Remove multipli element using silicing (work with indexes)\n",
    "del(l[-2:])"
   ]
  },
  {
   "cell_type": "code",
   "execution_count": 20,
   "id": "92b28f8f",
   "metadata": {},
   "outputs": [
    {
     "data": {
      "text/plain": [
       "[12, 24.5, 'apple', True, 45, 'Orange', False, 'Banana']"
      ]
     },
     "execution_count": 20,
     "metadata": {},
     "output_type": "execute_result"
    }
   ],
   "source": [
    "l"
   ]
  },
  {
   "cell_type": "code",
   "execution_count": 21,
   "id": "34a4cb2a",
   "metadata": {},
   "outputs": [
    {
     "data": {
      "text/plain": [
       "'Banana'"
      ]
     },
     "execution_count": 21,
     "metadata": {},
     "output_type": "execute_result"
    }
   ],
   "source": [
    "# this remove last element from list\n",
    "l.pop()"
   ]
  },
  {
   "cell_type": "code",
   "execution_count": 22,
   "id": "40b1efb1",
   "metadata": {},
   "outputs": [
    {
     "data": {
      "text/plain": [
       "[12, 24.5, 'apple', True, 45, 'Orange', False]"
      ]
     },
     "execution_count": 22,
     "metadata": {},
     "output_type": "execute_result"
    }
   ],
   "source": [
    "l"
   ]
  },
  {
   "cell_type": "code",
   "execution_count": 23,
   "id": "b9250842",
   "metadata": {},
   "outputs": [],
   "source": [
    "# Remove method is worked by anme of element\n",
    "l.remove(24.5)"
   ]
  },
  {
   "cell_type": "code",
   "execution_count": 24,
   "id": "f7f331fb",
   "metadata": {},
   "outputs": [
    {
     "data": {
      "text/plain": [
       "[12, 'apple', True, 45, 'Orange', False]"
      ]
     },
     "execution_count": 24,
     "metadata": {},
     "output_type": "execute_result"
    }
   ],
   "source": [
    "l"
   ]
  },
  {
   "cell_type": "markdown",
   "id": "04ced2cc",
   "metadata": {},
   "source": [
    "### List Functon"
   ]
  },
  {
   "cell_type": "code",
   "execution_count": 25,
   "id": "d1a2d903",
   "metadata": {},
   "outputs": [],
   "source": [
    "l2=[23,45,20,56,78,94]"
   ]
  },
  {
   "cell_type": "code",
   "execution_count": 26,
   "id": "0e354e35",
   "metadata": {},
   "outputs": [
    {
     "data": {
      "text/plain": [
       "list"
      ]
     },
     "execution_count": 26,
     "metadata": {},
     "output_type": "execute_result"
    }
   ],
   "source": [
    "type(l2)"
   ]
  },
  {
   "cell_type": "code",
   "execution_count": 27,
   "id": "34a3f0b9",
   "metadata": {},
   "outputs": [
    {
     "data": {
      "text/plain": [
       "6"
      ]
     },
     "execution_count": 27,
     "metadata": {},
     "output_type": "execute_result"
    }
   ],
   "source": [
    "len(l2)"
   ]
  },
  {
   "cell_type": "code",
   "execution_count": 28,
   "id": "7fc91083",
   "metadata": {},
   "outputs": [
    {
     "data": {
      "text/plain": [
       "94"
      ]
     },
     "execution_count": 28,
     "metadata": {},
     "output_type": "execute_result"
    }
   ],
   "source": [
    "max(l2)"
   ]
  },
  {
   "cell_type": "code",
   "execution_count": 29,
   "id": "e2d664cd",
   "metadata": {},
   "outputs": [
    {
     "data": {
      "text/plain": [
       "20"
      ]
     },
     "execution_count": 29,
     "metadata": {},
     "output_type": "execute_result"
    }
   ],
   "source": [
    "min(l2)"
   ]
  },
  {
   "cell_type": "code",
   "execution_count": 30,
   "id": "5d26d1f4",
   "metadata": {},
   "outputs": [
    {
     "data": {
      "text/plain": [
       "23"
      ]
     },
     "execution_count": 30,
     "metadata": {},
     "output_type": "execute_result"
    }
   ],
   "source": [
    "round(23.4)"
   ]
  },
  {
   "cell_type": "code",
   "execution_count": 31,
   "id": "b696c4fe",
   "metadata": {},
   "outputs": [
    {
     "data": {
      "text/plain": [
       "[20, 23, 45, 56, 78, 94]"
      ]
     },
     "execution_count": 31,
     "metadata": {},
     "output_type": "execute_result"
    }
   ],
   "source": [
    "#Function of sorting the list in ascending order\n",
    "sorted(l2)\n"
   ]
  },
  {
   "cell_type": "code",
   "execution_count": 32,
   "id": "8ee975f1",
   "metadata": {},
   "outputs": [
    {
     "data": {
      "text/plain": [
       "[94, 78, 56, 45, 23, 20]"
      ]
     },
     "execution_count": 32,
     "metadata": {},
     "output_type": "execute_result"
    }
   ],
   "source": [
    "# function of Sorting the list in decending order\n",
    "sorted(l2,reverse=True)"
   ]
  },
  {
   "cell_type": "markdown",
   "id": "dcb44399",
   "metadata": {},
   "source": [
    "### List Methods"
   ]
  },
  {
   "cell_type": "code",
   "execution_count": 33,
   "id": "862eec5e",
   "metadata": {},
   "outputs": [
    {
     "data": {
      "text/plain": [
       "[23, 45, 20, 56, 78, 94]"
      ]
     },
     "execution_count": 33,
     "metadata": {},
     "output_type": "execute_result"
    }
   ],
   "source": [
    "l2"
   ]
  },
  {
   "cell_type": "code",
   "execution_count": 34,
   "id": "f43bce8a",
   "metadata": {},
   "outputs": [
    {
     "data": {
      "text/plain": [
       "5"
      ]
     },
     "execution_count": 34,
     "metadata": {},
     "output_type": "execute_result"
    }
   ],
   "source": [
    "# to get index of list element\n",
    "\n",
    "l2.index(94)"
   ]
  },
  {
   "cell_type": "code",
   "execution_count": 35,
   "id": "130a9702",
   "metadata": {},
   "outputs": [],
   "source": [
    "#add value by position \n",
    "l2.insert(9,50)"
   ]
  },
  {
   "cell_type": "code",
   "execution_count": 36,
   "id": "0e3abc61",
   "metadata": {},
   "outputs": [
    {
     "data": {
      "text/plain": [
       "[23, 45, 20, 56, 78, 94, 50]"
      ]
     },
     "execution_count": 36,
     "metadata": {},
     "output_type": "execute_result"
    }
   ],
   "source": [
    "l2"
   ]
  },
  {
   "cell_type": "code",
   "execution_count": 37,
   "id": "6ea971c0",
   "metadata": {},
   "outputs": [
    {
     "data": {
      "text/plain": [
       "1"
      ]
     },
     "execution_count": 37,
     "metadata": {},
     "output_type": "execute_result"
    }
   ],
   "source": [
    "#count duplicates values\n",
    "l2.count(20)"
   ]
  },
  {
   "cell_type": "code",
   "execution_count": 38,
   "id": "3abee080",
   "metadata": {},
   "outputs": [
    {
     "data": {
      "text/plain": [
       "50"
      ]
     },
     "execution_count": 38,
     "metadata": {},
     "output_type": "execute_result"
    }
   ],
   "source": [
    "#delete last value of list\n",
    "l2.pop()"
   ]
  },
  {
   "cell_type": "code",
   "execution_count": 54,
   "id": "440c02f9",
   "metadata": {},
   "outputs": [
    {
     "data": {
      "text/plain": [
       "[20,\n",
       " 23,\n",
       " 45,\n",
       " 56,\n",
       " 78,\n",
       " 'Apple',\n",
       " 23,\n",
       " 45,\n",
       " 20,\n",
       " 56,\n",
       " 78,\n",
       " 94,\n",
       " 'Apple',\n",
       " 23,\n",
       " 45,\n",
       " 20,\n",
       " 56,\n",
       " 78,\n",
       " 94,\n",
       " 'Apple',\n",
       " 23,\n",
       " 45,\n",
       " 20,\n",
       " 56,\n",
       " 78,\n",
       " 94,\n",
       " 'Apple']"
      ]
     },
     "execution_count": 54,
     "metadata": {},
     "output_type": "execute_result"
    }
   ],
   "source": [
    "l3=l2\n",
    "l3"
   ]
  },
  {
   "cell_type": "code",
   "execution_count": 55,
   "id": "c3ddabeb",
   "metadata": {},
   "outputs": [],
   "source": [
    "# add value in last of list\n",
    "l3.append(\"Apple\")"
   ]
  },
  {
   "cell_type": "code",
   "execution_count": 56,
   "id": "1c840ba3",
   "metadata": {},
   "outputs": [
    {
     "data": {
      "text/plain": [
       "[20,\n",
       " 23,\n",
       " 45,\n",
       " 56,\n",
       " 78,\n",
       " 'Apple',\n",
       " 23,\n",
       " 45,\n",
       " 20,\n",
       " 56,\n",
       " 78,\n",
       " 94,\n",
       " 'Apple',\n",
       " 23,\n",
       " 45,\n",
       " 20,\n",
       " 56,\n",
       " 78,\n",
       " 94,\n",
       " 'Apple',\n",
       " 23,\n",
       " 45,\n",
       " 20,\n",
       " 56,\n",
       " 78,\n",
       " 94,\n",
       " 'Apple',\n",
       " 'Apple']"
      ]
     },
     "execution_count": 56,
     "metadata": {},
     "output_type": "execute_result"
    }
   ],
   "source": [
    "l3"
   ]
  },
  {
   "cell_type": "code",
   "execution_count": 57,
   "id": "e247c031",
   "metadata": {},
   "outputs": [],
   "source": [
    "#add l2 value in the last of l3\n",
    "l3.extend(l2)"
   ]
  },
  {
   "cell_type": "code",
   "execution_count": 58,
   "id": "3bc4b59d",
   "metadata": {},
   "outputs": [
    {
     "name": "stdout",
     "output_type": "stream",
     "text": [
      "[20, 23, 45, 56, 78, 'Apple', 23, 45, 20, 56, 78, 94, 'Apple', 23, 45, 20, 56, 78, 94, 'Apple', 23, 45, 20, 56, 78, 94, 'Apple', 'Apple', 20, 23, 45, 56, 78, 'Apple', 23, 45, 20, 56, 78, 94, 'Apple', 23, 45, 20, 56, 78, 94, 'Apple', 23, 45, 20, 56, 78, 94, 'Apple', 'Apple']\n"
     ]
    }
   ],
   "source": [
    "print(l3)"
   ]
  },
  {
   "cell_type": "code",
   "execution_count": 59,
   "id": "322cc85a",
   "metadata": {},
   "outputs": [],
   "source": [
    "# Add l3 value in the last of l2 list\n",
    "l2.extend(l3)"
   ]
  },
  {
   "cell_type": "code",
   "execution_count": 60,
   "id": "ce7c2ea5",
   "metadata": {},
   "outputs": [
    {
     "name": "stdout",
     "output_type": "stream",
     "text": [
      "[20, 23, 45, 56, 78, 'Apple', 23, 45, 20, 56, 78, 94, 'Apple', 23, 45, 20, 56, 78, 94, 'Apple', 23, 45, 20, 56, 78, 94, 'Apple', 'Apple', 20, 23, 45, 56, 78, 'Apple', 23, 45, 20, 56, 78, 94, 'Apple', 23, 45, 20, 56, 78, 94, 'Apple', 23, 45, 20, 56, 78, 94, 'Apple', 'Apple', 20, 23, 45, 56, 78, 'Apple', 23, 45, 20, 56, 78, 94, 'Apple', 23, 45, 20, 56, 78, 94, 'Apple', 23, 45, 20, 56, 78, 94, 'Apple', 'Apple', 20, 23, 45, 56, 78, 'Apple', 23, 45, 20, 56, 78, 94, 'Apple', 23, 45, 20, 56, 78, 94, 'Apple', 23, 45, 20, 56, 78, 94, 'Apple', 'Apple']\n"
     ]
    }
   ],
   "source": [
    "print(l2)"
   ]
  },
  {
   "cell_type": "code",
   "execution_count": 61,
   "id": "f2feede8",
   "metadata": {},
   "outputs": [],
   "source": [
    "l3.remove(94)"
   ]
  },
  {
   "cell_type": "code",
   "execution_count": 62,
   "id": "77e088f8",
   "metadata": {},
   "outputs": [
    {
     "name": "stdout",
     "output_type": "stream",
     "text": [
      "[20, 23, 45, 56, 78, 'Apple', 23, 45, 20, 56, 78, 'Apple', 23, 45, 20, 56, 78, 94, 'Apple', 23, 45, 20, 56, 78, 94, 'Apple', 'Apple', 20, 23, 45, 56, 78, 'Apple', 23, 45, 20, 56, 78, 94, 'Apple', 23, 45, 20, 56, 78, 94, 'Apple', 23, 45, 20, 56, 78, 94, 'Apple', 'Apple', 20, 23, 45, 56, 78, 'Apple', 23, 45, 20, 56, 78, 94, 'Apple', 23, 45, 20, 56, 78, 94, 'Apple', 23, 45, 20, 56, 78, 94, 'Apple', 'Apple', 20, 23, 45, 56, 78, 'Apple', 23, 45, 20, 56, 78, 94, 'Apple', 23, 45, 20, 56, 78, 94, 'Apple', 23, 45, 20, 56, 78, 94, 'Apple', 'Apple']\n"
     ]
    }
   ],
   "source": [
    "print(l3)"
   ]
  },
  {
   "cell_type": "code",
   "execution_count": 63,
   "id": "f341a83a",
   "metadata": {},
   "outputs": [
    {
     "data": {
      "text/plain": [
       "111"
      ]
     },
     "execution_count": 63,
     "metadata": {},
     "output_type": "execute_result"
    }
   ],
   "source": [
    "len(l3)"
   ]
  },
  {
   "cell_type": "code",
   "execution_count": 64,
   "id": "ac992eca",
   "metadata": {},
   "outputs": [
    {
     "ename": "TypeError",
     "evalue": "'<' not supported between instances of 'str' and 'int'",
     "output_type": "error",
     "traceback": [
      "\u001b[1;31m---------------------------------------------------------------------------\u001b[0m",
      "\u001b[1;31mTypeError\u001b[0m                                 Traceback (most recent call last)",
      "\u001b[1;32mC:\\Users\\MYDELL~1\\AppData\\Local\\Temp/ipykernel_5780/2767735583.py\u001b[0m in \u001b[0;36m<module>\u001b[1;34m\u001b[0m\n\u001b[0;32m      1\u001b[0m \u001b[1;31m#method fo list sorting\u001b[0m\u001b[1;33m\u001b[0m\u001b[1;33m\u001b[0m\u001b[0m\n\u001b[1;32m----> 2\u001b[1;33m \u001b[0ml3\u001b[0m\u001b[1;33m.\u001b[0m\u001b[0msort\u001b[0m\u001b[1;33m(\u001b[0m\u001b[1;33m)\u001b[0m\u001b[1;33m\u001b[0m\u001b[1;33m\u001b[0m\u001b[0m\n\u001b[0m",
      "\u001b[1;31mTypeError\u001b[0m: '<' not supported between instances of 'str' and 'int'"
     ]
    }
   ],
   "source": [
    "#method fo list sorting\n",
    "l3.sort()"
   ]
  },
  {
   "cell_type": "code",
   "execution_count": 51,
   "id": "72a8b010",
   "metadata": {},
   "outputs": [
    {
     "name": "stdout",
     "output_type": "stream",
     "text": [
      "[20, 23, 45, 56, 78, 'Apple', 23, 45, 20, 56, 78, 94, 'Apple', 23, 45, 20, 56, 78, 94, 'Apple', 23, 45, 20, 56, 78, 94, 'Apple']\n"
     ]
    }
   ],
   "source": [
    "print(l3)"
   ]
  },
  {
   "cell_type": "code",
   "execution_count": 52,
   "id": "671d6c9d",
   "metadata": {},
   "outputs": [
    {
     "ename": "TypeError",
     "evalue": "'<' not supported between instances of 'int' and 'str'",
     "output_type": "error",
     "traceback": [
      "\u001b[1;31m---------------------------------------------------------------------------\u001b[0m",
      "\u001b[1;31mTypeError\u001b[0m                                 Traceback (most recent call last)",
      "\u001b[1;32mC:\\Users\\MYDELL~1\\AppData\\Local\\Temp/ipykernel_5780/4142465462.py\u001b[0m in \u001b[0;36m<module>\u001b[1;34m\u001b[0m\n\u001b[1;32m----> 1\u001b[1;33m \u001b[0ml3\u001b[0m\u001b[1;33m.\u001b[0m\u001b[0msort\u001b[0m\u001b[1;33m(\u001b[0m\u001b[0mreverse\u001b[0m\u001b[1;33m=\u001b[0m\u001b[1;32mTrue\u001b[0m\u001b[1;33m)\u001b[0m\u001b[1;33m\u001b[0m\u001b[1;33m\u001b[0m\u001b[0m\n\u001b[0m",
      "\u001b[1;31mTypeError\u001b[0m: '<' not supported between instances of 'int' and 'str'"
     ]
    }
   ],
   "source": [
    "l3.sort(reverse=True)"
   ]
  },
  {
   "cell_type": "code",
   "execution_count": 53,
   "id": "bed45c56",
   "metadata": {},
   "outputs": [
    {
     "name": "stdout",
     "output_type": "stream",
     "text": [
      "[20, 23, 45, 56, 78, 'Apple', 23, 45, 20, 56, 78, 94, 'Apple', 23, 45, 20, 56, 78, 94, 'Apple', 23, 45, 20, 56, 78, 94, 'Apple']\n"
     ]
    }
   ],
   "source": [
    "print(l3)"
   ]
  },
  {
   "cell_type": "markdown",
   "id": "09f4b162",
   "metadata": {},
   "source": [
    "# Tuple\n",
    "- tuple is the collection of different data type.\n",
    "- tuple is created by using ().\n",
    "- tuple is immutable data structrures.\n"
   ]
  },
  {
   "cell_type": "code",
   "execution_count": 65,
   "id": "c5d2cdac",
   "metadata": {},
   "outputs": [
    {
     "name": "stdout",
     "output_type": "stream",
     "text": [
      "(1, 4, 'vineet', 4.5, True)\n"
     ]
    }
   ],
   "source": [
    "#creating tuple\n",
    "a=(1,4,\"vineet\",4.5,True)\n",
    "print(a)"
   ]
  },
  {
   "cell_type": "code",
   "execution_count": 66,
   "id": "5278afad",
   "metadata": {},
   "outputs": [
    {
     "data": {
      "text/plain": [
       "tuple"
      ]
     },
     "execution_count": 66,
     "metadata": {},
     "output_type": "execute_result"
    }
   ],
   "source": [
    "type(a)"
   ]
  },
  {
   "cell_type": "markdown",
   "id": "38bf8a47",
   "metadata": {},
   "source": [
    "### Accessing tuple"
   ]
  },
  {
   "cell_type": "code",
   "execution_count": 67,
   "id": "7a65d257",
   "metadata": {},
   "outputs": [
    {
     "data": {
      "text/plain": [
       "1"
      ]
     },
     "execution_count": 67,
     "metadata": {},
     "output_type": "execute_result"
    }
   ],
   "source": [
    "# accessing tuple using subsrtting\n",
    "a[0]"
   ]
  },
  {
   "cell_type": "code",
   "execution_count": 69,
   "id": "e8819d88",
   "metadata": {},
   "outputs": [
    {
     "data": {
      "text/plain": [
       "'vineet'"
      ]
     },
     "execution_count": 69,
     "metadata": {},
     "output_type": "execute_result"
    }
   ],
   "source": [
    "a[2]"
   ]
  },
  {
   "cell_type": "code",
   "execution_count": 70,
   "id": "50cb5d69",
   "metadata": {},
   "outputs": [
    {
     "data": {
      "text/plain": [
       "True"
      ]
     },
     "execution_count": 70,
     "metadata": {},
     "output_type": "execute_result"
    }
   ],
   "source": [
    "a[-1]"
   ]
  },
  {
   "cell_type": "code",
   "execution_count": 71,
   "id": "e200d285",
   "metadata": {},
   "outputs": [
    {
     "data": {
      "text/plain": [
       "(1, 4, 'vineet', 4.5)"
      ]
     },
     "execution_count": 71,
     "metadata": {},
     "output_type": "execute_result"
    }
   ],
   "source": [
    "#Accessing using slicing\n",
    "a[:-1]"
   ]
  },
  {
   "cell_type": "code",
   "execution_count": 72,
   "id": "35e85bf7",
   "metadata": {},
   "outputs": [
    {
     "data": {
      "text/plain": [
       "(4, 'vineet', 4.5, True)"
      ]
     },
     "execution_count": 72,
     "metadata": {},
     "output_type": "execute_result"
    }
   ],
   "source": [
    "a[1:]"
   ]
  },
  {
   "cell_type": "code",
   "execution_count": 80,
   "id": "c19951f4",
   "metadata": {},
   "outputs": [
    {
     "name": "stdout",
     "output_type": "stream",
     "text": [
      "(2, 67, 'kumar', False)\n"
     ]
    }
   ],
   "source": [
    "b=(2,67,\"kumar\",False)\n",
    "print(b)"
   ]
  },
  {
   "cell_type": "code",
   "execution_count": 83,
   "id": "f6fee0fd",
   "metadata": {},
   "outputs": [
    {
     "name": "stdout",
     "output_type": "stream",
     "text": [
      "(1, 4, 'vineet', 4.5, True, 2, 67, 'kumar', False)\n"
     ]
    }
   ],
   "source": [
    "# concatenate Tuple\n",
    "z=a+b\n",
    "print(z)"
   ]
  },
  {
   "cell_type": "code",
   "execution_count": 84,
   "id": "72aaf40b",
   "metadata": {},
   "outputs": [
    {
     "name": "stdout",
     "output_type": "stream",
     "text": [
      "(1, 4, 'vineet', 4.5, True, 2, 67, 'kumar', False)\n"
     ]
    }
   ],
   "source": [
    "print(z)"
   ]
  },
  {
   "cell_type": "markdown",
   "id": "6feecdd0",
   "metadata": {},
   "source": [
    "### Reapeating Tuple Element"
   ]
  },
  {
   "cell_type": "code",
   "execution_count": 86,
   "id": "1e87caa8",
   "metadata": {},
   "outputs": [
    {
     "name": "stdout",
     "output_type": "stream",
     "text": [
      "(1, 4, 'vineet', 4.5, True)\n"
     ]
    }
   ],
   "source": [
    "print(a)"
   ]
  },
  {
   "cell_type": "code",
   "execution_count": 89,
   "id": "514c5dde",
   "metadata": {},
   "outputs": [
    {
     "name": "stdout",
     "output_type": "stream",
     "text": [
      "(1, 4, 'vineet', 4.5, True, 1, 4, 'vineet', 4.5, True, 1, 4, 'vineet', 4.5, True, 2, 67, 'kumar', False)\n"
     ]
    }
   ],
   "source": [
    "print(a*3+b\n",
    "     )"
   ]
  },
  {
   "cell_type": "code",
   "execution_count": null,
   "id": "4945b298",
   "metadata": {},
   "outputs": [],
   "source": []
  },
  {
   "cell_type": "code",
   "execution_count": 90,
   "id": "8a29c04f",
   "metadata": {},
   "outputs": [
    {
     "name": "stdout",
     "output_type": "stream",
     "text": [
      "(23, 45, 67, 84, 13, 45)\n"
     ]
    }
   ],
   "source": [
    "c=(23,45,67,84,13,45)\n",
    "print(c)"
   ]
  },
  {
   "cell_type": "code",
   "execution_count": 92,
   "id": "5cd55c73",
   "metadata": {},
   "outputs": [
    {
     "data": {
      "text/plain": [
       "84"
      ]
     },
     "execution_count": 92,
     "metadata": {},
     "output_type": "execute_result"
    }
   ],
   "source": [
    "max(c)"
   ]
  },
  {
   "cell_type": "code",
   "execution_count": 93,
   "id": "c951ec97",
   "metadata": {},
   "outputs": [
    {
     "data": {
      "text/plain": [
       "13"
      ]
     },
     "execution_count": 93,
     "metadata": {},
     "output_type": "execute_result"
    }
   ],
   "source": [
    "min(c)"
   ]
  },
  {
   "cell_type": "markdown",
   "id": "4c5a8b7a",
   "metadata": {},
   "source": [
    "# Dictionary\n",
    "- Dictionary is the collection of data values that has key-value pair.\n",
    "- Dictionary is created using { }.\n",
    "- Dictionary is a mutable data type.\n",
    "- In dictionary Key should be unique.\n",
    "- In dictionary value can  be another datatype like list, tuple, dictionary also.\n"
   ]
  },
  {
   "cell_type": "code",
   "execution_count": 95,
   "id": "aa48d38f",
   "metadata": {},
   "outputs": [
    {
     "name": "stdout",
     "output_type": "stream",
     "text": [
      "{'Apple': 80, 'banana': 40, 'Orange': 50}\n"
     ]
    }
   ],
   "source": [
    "#Creating Dictionary\n",
    "fruits={\"Apple\":80,\"banana\":40,\"Orange\":50}\n",
    "print(fruits)"
   ]
  },
  {
   "cell_type": "code",
   "execution_count": 101,
   "id": "a5d3d015",
   "metadata": {},
   "outputs": [
    {
     "data": {
      "text/plain": [
       "dict"
      ]
     },
     "execution_count": 101,
     "metadata": {},
     "output_type": "execute_result"
    }
   ],
   "source": [
    "type(fruits)"
   ]
  },
  {
   "cell_type": "code",
   "execution_count": 98,
   "id": "e0ca149e",
   "metadata": {},
   "outputs": [
    {
     "data": {
      "text/plain": [
       "80"
      ]
     },
     "execution_count": 98,
     "metadata": {},
     "output_type": "execute_result"
    }
   ],
   "source": [
    "#Accessing by key name \n",
    "fruits[\"Apple\"]"
   ]
  },
  {
   "cell_type": "code",
   "execution_count": 102,
   "id": "68b43a1d",
   "metadata": {},
   "outputs": [],
   "source": [
    "#adding new element in dictionary\n",
    "fruits[\"Black_berry\"]=100"
   ]
  },
  {
   "cell_type": "code",
   "execution_count": 103,
   "id": "252089b7",
   "metadata": {},
   "outputs": [
    {
     "data": {
      "text/plain": [
       "{'Apple': 80, 'banana': 40, 'Orange': 50, 'Black_berry': 100}"
      ]
     },
     "execution_count": 103,
     "metadata": {},
     "output_type": "execute_result"
    }
   ],
   "source": [
    "fruits"
   ]
  },
  {
   "cell_type": "code",
   "execution_count": 106,
   "id": "4c8f562f",
   "metadata": {},
   "outputs": [],
   "source": [
    "#Updating value of dictionary\n",
    "fruits[\"Orange\"]=60"
   ]
  },
  {
   "cell_type": "code",
   "execution_count": 107,
   "id": "3bd87cc4",
   "metadata": {},
   "outputs": [
    {
     "data": {
      "text/plain": [
       "{'Apple': 80, 'banana': 40, 'Orange': 60, 'Black_berry': 100, 'orange': 60}"
      ]
     },
     "execution_count": 107,
     "metadata": {},
     "output_type": "execute_result"
    }
   ],
   "source": [
    "fruits"
   ]
  },
  {
   "cell_type": "code",
   "execution_count": 108,
   "id": "f1b76afb",
   "metadata": {},
   "outputs": [],
   "source": [
    "#deleting value from dictionary using del() function\n",
    "del(fruits[\"orange\"])"
   ]
  },
  {
   "cell_type": "code",
   "execution_count": 109,
   "id": "821637eb",
   "metadata": {},
   "outputs": [
    {
     "data": {
      "text/plain": [
       "{'Apple': 80, 'banana': 40, 'Orange': 60, 'Black_berry': 100}"
      ]
     },
     "execution_count": 109,
     "metadata": {},
     "output_type": "execute_result"
    }
   ],
   "source": [
    "fruits"
   ]
  },
  {
   "cell_type": "code",
   "execution_count": 110,
   "id": "45bada86",
   "metadata": {},
   "outputs": [
    {
     "data": {
      "text/plain": [
       "100"
      ]
     },
     "execution_count": 110,
     "metadata": {},
     "output_type": "execute_result"
    }
   ],
   "source": [
    "# Deleting value from dictionary using pop method\n",
    "fruits.pop(\"Black_berry\")"
   ]
  },
  {
   "cell_type": "code",
   "execution_count": 111,
   "id": "b502845d",
   "metadata": {},
   "outputs": [
    {
     "data": {
      "text/plain": [
       "{'Apple': 80, 'banana': 40, 'Orange': 60}"
      ]
     },
     "execution_count": 111,
     "metadata": {},
     "output_type": "execute_result"
    }
   ],
   "source": [
    "fruits"
   ]
  },
  {
   "cell_type": "code",
   "execution_count": 113,
   "id": "7c46a61a",
   "metadata": {},
   "outputs": [
    {
     "name": "stdout",
     "output_type": "stream",
     "text": [
      "{'Apple': 80, 'banana': 40, 'Orange': 60}\n"
     ]
    }
   ],
   "source": [
    "fruits1={\"Orange\":50,\"Black_berry\":100,\"Guava\":30}\n",
    "print(fruits)"
   ]
  },
  {
   "cell_type": "code",
   "execution_count": 114,
   "id": "f1df138a",
   "metadata": {},
   "outputs": [],
   "source": [
    "fruits.update(fruits1)"
   ]
  },
  {
   "cell_type": "code",
   "execution_count": 115,
   "id": "1b10e32b",
   "metadata": {},
   "outputs": [
    {
     "data": {
      "text/plain": [
       "{'Apple': 80, 'banana': 40, 'Orange': 50, 'Black_berry': 100, 'Guava': 30}"
      ]
     },
     "execution_count": 115,
     "metadata": {},
     "output_type": "execute_result"
    }
   ],
   "source": [
    "fruits"
   ]
  },
  {
   "cell_type": "code",
   "execution_count": 116,
   "id": "dc799a8c",
   "metadata": {},
   "outputs": [],
   "source": [
    "# creating dictonary using list dat type in values\n",
    "runs={1:[30,50,23,78,100],1.2:\"Rohit\",1.4:(\"Mumbai Indians\")}print"
   ]
  },
  {
   "cell_type": "code",
   "execution_count": 117,
   "id": "e478c903",
   "metadata": {},
   "outputs": [
    {
     "name": "stdout",
     "output_type": "stream",
     "text": [
      "{1: [30, 50, 23, 78, 100], 1.2: 'Rohit', 1.4: 'Mumbai Indians'}\n"
     ]
    }
   ],
   "source": [
    "print(runs)"
   ]
  },
  {
   "cell_type": "code",
   "execution_count": 119,
   "id": "3c6fb1d4",
   "metadata": {},
   "outputs": [
    {
     "data": {
      "text/plain": [
       "dict"
      ]
     },
     "execution_count": 119,
     "metadata": {},
     "output_type": "execute_result"
    }
   ],
   "source": [
    "type(runs)"
   ]
  },
  {
   "cell_type": "code",
   "execution_count": 120,
   "id": "ff577a64",
   "metadata": {},
   "outputs": [
    {
     "data": {
      "text/plain": [
       "[30, 50, 23, 78, 100]"
      ]
     },
     "execution_count": 120,
     "metadata": {},
     "output_type": "execute_result"
    }
   ],
   "source": [
    "runs[1]"
   ]
  },
  {
   "cell_type": "code",
   "execution_count": 121,
   "id": "5406528a",
   "metadata": {},
   "outputs": [
    {
     "data": {
      "text/plain": [
       "'Rohit'"
      ]
     },
     "execution_count": 121,
     "metadata": {},
     "output_type": "execute_result"
    }
   ],
   "source": [
    "runs[1.2]"
   ]
  },
  {
   "cell_type": "code",
   "execution_count": 122,
   "id": "dc920907",
   "metadata": {},
   "outputs": [
    {
     "data": {
      "text/plain": [
       "'Mumbai Indians'"
      ]
     },
     "execution_count": 122,
     "metadata": {},
     "output_type": "execute_result"
    }
   ],
   "source": [
    "runs[1.4]"
   ]
  },
  {
   "cell_type": "code",
   "execution_count": 123,
   "id": "70e0d41c",
   "metadata": {},
   "outputs": [],
   "source": [
    "runs[1]=[40,38,70,102,33]"
   ]
  },
  {
   "cell_type": "code",
   "execution_count": 124,
   "id": "b3a379b4",
   "metadata": {},
   "outputs": [
    {
     "data": {
      "text/plain": [
       "{1: [40, 38, 70, 102, 33], 1.2: 'Rohit', 1.4: 'Mumbai Indians'}"
      ]
     },
     "execution_count": 124,
     "metadata": {},
     "output_type": "execute_result"
    }
   ],
   "source": [
    "runs"
   ]
  },
  {
   "cell_type": "code",
   "execution_count": 125,
   "id": "c6da506a",
   "metadata": {},
   "outputs": [],
   "source": [
    "runs[1.2]=\"vineet\""
   ]
  },
  {
   "cell_type": "code",
   "execution_count": 126,
   "id": "913f49bb",
   "metadata": {},
   "outputs": [
    {
     "data": {
      "text/plain": [
       "{1: [40, 38, 70, 102, 33], 1.2: 'vineet', 1.4: 'Mumbai Indians'}"
      ]
     },
     "execution_count": 126,
     "metadata": {},
     "output_type": "execute_result"
    }
   ],
   "source": [
    "runs"
   ]
  },
  {
   "cell_type": "code",
   "execution_count": 129,
   "id": "535e6972",
   "metadata": {},
   "outputs": [],
   "source": [
    "# Mumbai indians can not be change because it's value is tuple."
   ]
  },
  {
   "cell_type": "code",
   "execution_count": 130,
   "id": "ad43810c",
   "metadata": {},
   "outputs": [
    {
     "data": {
      "text/plain": [
       "dict_keys([1, 1.2, 1.4])"
      ]
     },
     "execution_count": 130,
     "metadata": {},
     "output_type": "execute_result"
    }
   ],
   "source": [
    "#Extracting all keys\n",
    "runs.keys()"
   ]
  },
  {
   "cell_type": "code",
   "execution_count": 131,
   "id": "4f41a7c5",
   "metadata": {},
   "outputs": [
    {
     "data": {
      "text/plain": [
       "dict_values([[40, 38, 70, 102, 33], 'vineet', 'Mumbai Indians'])"
      ]
     },
     "execution_count": 131,
     "metadata": {},
     "output_type": "execute_result"
    }
   ],
   "source": [
    "#Extracting all values\n",
    "runs.values()"
   ]
  },
  {
   "cell_type": "code",
   "execution_count": null,
   "id": "ad5a6249",
   "metadata": {},
   "outputs": [],
   "source": []
  },
  {
   "cell_type": "code",
   "execution_count": 132,
   "id": "3c111202",
   "metadata": {},
   "outputs": [],
   "source": [
    "# Creating Neasted Dictionary\n",
    "student_file={\"Vineet\":{\"lastname\":\"kumar\",\"age\":23,\"Roll_no\":100160162,\"Course\":\"B.Teah\"},\n",
    "             \"Ayan\":{\"lastname\":\"Rajput\",\"age\":24,\"Roll_no\":100160109,\"Course\":\"M.Tech\"},\n",
    "             \"Gaurav\":{\"lastname\":\"Arya\",\"age\":25,\"Roll_no\":10016011,\"Course\":\"M.Tech\"}}"
   ]
  },
  {
   "cell_type": "code",
   "execution_count": 134,
   "id": "bbc111b2",
   "metadata": {},
   "outputs": [
    {
     "data": {
      "text/plain": [
       "{'Vineet': {'lastname': 'kumar',\n",
       "  'age': 23,\n",
       "  'Roll_no': 100160162,\n",
       "  'Course': 'B.Teah'},\n",
       " 'Ayan': {'lastname': 'Rajput',\n",
       "  'age': 24,\n",
       "  'Roll_no': 100160109,\n",
       "  'Course': 'M.Tech'},\n",
       " 'Gaurav': {'lastname': 'Arya',\n",
       "  'age': 25,\n",
       "  'Roll_no': 10016011,\n",
       "  'Course': 'M.Tech'}}"
      ]
     },
     "execution_count": 134,
     "metadata": {},
     "output_type": "execute_result"
    }
   ],
   "source": [
    "student_file"
   ]
  },
  {
   "cell_type": "code",
   "execution_count": 138,
   "id": "1664c044",
   "metadata": {},
   "outputs": [
    {
     "data": {
      "text/plain": [
       "{'lastname': 'kumar', 'age': 23, 'Roll_no': 100160162, 'Course': 'B.Teah'}"
      ]
     },
     "execution_count": 138,
     "metadata": {},
     "output_type": "execute_result"
    }
   ],
   "source": [
    "#accessing values\n",
    "student_file[\"Vineet\"]\n"
   ]
  },
  {
   "cell_type": "code",
   "execution_count": 139,
   "id": "0c1d4c80",
   "metadata": {},
   "outputs": [
    {
     "data": {
      "text/plain": [
       "23"
      ]
     },
     "execution_count": 139,
     "metadata": {},
     "output_type": "execute_result"
    }
   ],
   "source": [
    "student_file[\"Vineet\"][\"age\"]"
   ]
  },
  {
   "cell_type": "code",
   "execution_count": 140,
   "id": "8d583483",
   "metadata": {},
   "outputs": [
    {
     "data": {
      "text/plain": [
       "dict_keys(['Vineet', 'Ayan', 'Gaurav'])"
      ]
     },
     "execution_count": 140,
     "metadata": {},
     "output_type": "execute_result"
    }
   ],
   "source": [
    "student_file.keys()"
   ]
  },
  {
   "cell_type": "code",
   "execution_count": 141,
   "id": "84fbfc8e",
   "metadata": {},
   "outputs": [
    {
     "data": {
      "text/plain": [
       "dict_values([{'lastname': 'kumar', 'age': 23, 'Roll_no': 100160162, 'Course': 'B.Teah'}, {'lastname': 'Rajput', 'age': 24, 'Roll_no': 100160109, 'Course': 'M.Tech'}, {'lastname': 'Arya', 'age': 25, 'Roll_no': 10016011, 'Course': 'M.Tech'}])"
      ]
     },
     "execution_count": 141,
     "metadata": {},
     "output_type": "execute_result"
    }
   ],
   "source": [
    "student_file.values()"
   ]
  },
  {
   "cell_type": "code",
   "execution_count": 142,
   "id": "fabca3ae",
   "metadata": {},
   "outputs": [],
   "source": []
  },
  {
   "cell_type": "markdown",
   "id": "3dc69be4",
   "metadata": {},
   "source": [
    "# Set\n",
    "- Set is collection of different data type that is not allow duplicates values.\n",
    "- set is created using {}.\n",
    "- Empty set is created by {set}.\n",
    "- set is a mutable data type structures.\n",
    "- Set is the unordered and unindexed data structures. So we can not access set element"
   ]
  },
  {
   "cell_type": "code",
   "execution_count": 149,
   "id": "cd393c9b",
   "metadata": {},
   "outputs": [
    {
     "name": "stdout",
     "output_type": "stream",
     "text": [
      "{1, 2.4, 'apple'}\n"
     ]
    }
   ],
   "source": [
    "#creating set \n",
    "s1={1,2.4,\"apple\",True}\n",
    "\n",
    "print(a)"
   ]
  },
  {
   "cell_type": "code",
   "execution_count": 150,
   "id": "1aa43bc0",
   "metadata": {},
   "outputs": [
    {
     "data": {
      "text/plain": [
       "set"
      ]
     },
     "execution_count": 150,
     "metadata": {},
     "output_type": "execute_result"
    }
   ],
   "source": [
    "type(s1)"
   ]
  },
  {
   "cell_type": "code",
   "execution_count": 192,
   "id": "fdc8a783",
   "metadata": {},
   "outputs": [],
   "source": [
    "s4={set}"
   ]
  },
  {
   "cell_type": "code",
   "execution_count": 193,
   "id": "1420d190",
   "metadata": {},
   "outputs": [
    {
     "data": {
      "text/plain": [
       "set"
      ]
     },
     "execution_count": 193,
     "metadata": {},
     "output_type": "execute_result"
    }
   ],
   "source": [
    "type(s4)"
   ]
  },
  {
   "cell_type": "code",
   "execution_count": 194,
   "id": "028e3cd9",
   "metadata": {},
   "outputs": [
    {
     "data": {
      "text/plain": [
       "{set}"
      ]
     },
     "execution_count": 194,
     "metadata": {},
     "output_type": "execute_result"
    }
   ],
   "source": [
    "s4"
   ]
  },
  {
   "cell_type": "code",
   "execution_count": 153,
   "id": "2eda516e",
   "metadata": {},
   "outputs": [
    {
     "name": "stdout",
     "output_type": "stream",
     "text": [
      "{2, 3.4, 'hello', 'Python'}\n"
     ]
    }
   ],
   "source": [
    "# Set not allow duplicates elements\n",
    "s2={2,3.4,\"Python\",3.4,\"hello\",\"hello\"}\n",
    "print(s2)"
   ]
  },
  {
   "cell_type": "code",
   "execution_count": 157,
   "id": "5adf8e26",
   "metadata": {},
   "outputs": [],
   "source": [
    "# add new element in set\n",
    "s2.add(True)"
   ]
  },
  {
   "cell_type": "code",
   "execution_count": 158,
   "id": "f281a50d",
   "metadata": {},
   "outputs": [
    {
     "data": {
      "text/plain": [
       "{2, 3.4, False, 'Python', True, 'hello'}"
      ]
     },
     "execution_count": 158,
     "metadata": {},
     "output_type": "execute_result"
    }
   ],
   "source": [
    "s2"
   ]
  },
  {
   "cell_type": "code",
   "execution_count": 159,
   "id": "c17f88e6",
   "metadata": {},
   "outputs": [],
   "source": [
    "#adding multiple elements\n",
    "s1.update(s2)"
   ]
  },
  {
   "cell_type": "code",
   "execution_count": 160,
   "id": "196821f8",
   "metadata": {},
   "outputs": [
    {
     "name": "stdout",
     "output_type": "stream",
     "text": [
      "{False, 1, 2.4, 2, 3.4, 'apple', 'hello', 'Python'}\n"
     ]
    }
   ],
   "source": [
    "print(s1)"
   ]
  },
  {
   "cell_type": "code",
   "execution_count": 164,
   "id": "dc9eccf3",
   "metadata": {},
   "outputs": [],
   "source": [
    "# Remove Element of set\n",
    "s1.remove(\"hello\")"
   ]
  },
  {
   "cell_type": "code",
   "execution_count": 165,
   "id": "c17fcd93",
   "metadata": {},
   "outputs": [
    {
     "data": {
      "text/plain": [
       "{1, 2, 2.4, 3.4, False, 'Python', 'apple'}"
      ]
     },
     "execution_count": 165,
     "metadata": {},
     "output_type": "execute_result"
    }
   ],
   "source": [
    "s1"
   ]
  },
  {
   "cell_type": "markdown",
   "id": "2f9616d1",
   "metadata": {},
   "source": [
    "### function of Set"
   ]
  },
  {
   "cell_type": "markdown",
   "id": "de560837",
   "metadata": {},
   "source": [
    "* union"
   ]
  },
  {
   "cell_type": "code",
   "execution_count": 166,
   "id": "73ea17ce",
   "metadata": {},
   "outputs": [
    {
     "data": {
      "text/plain": [
       "{1, 2, 2.4, 3.4, False, 'Python', 'apple', 'hello'}"
      ]
     },
     "execution_count": 166,
     "metadata": {},
     "output_type": "execute_result"
    }
   ],
   "source": [
    "s1.union(s2)"
   ]
  },
  {
   "cell_type": "markdown",
   "id": "6bee2faa",
   "metadata": {},
   "source": [
    "* intersection"
   ]
  },
  {
   "cell_type": "code",
   "execution_count": 167,
   "id": "61e36454",
   "metadata": {},
   "outputs": [
    {
     "data": {
      "text/plain": [
       "{2, 3.4, False, 'Python', True}"
      ]
     },
     "execution_count": 167,
     "metadata": {},
     "output_type": "execute_result"
    }
   ],
   "source": [
    "s1.intersection(s2)"
   ]
  },
  {
   "cell_type": "code",
   "execution_count": null,
   "id": "362b80ca",
   "metadata": {},
   "outputs": [],
   "source": []
  },
  {
   "cell_type": "markdown",
   "id": "79151736",
   "metadata": {},
   "source": [
    "# Frozenset\n",
    "- frozenset is the immutable data type strucures of set\n",
    "- it is created by frozenset{}.\n",
    "- Build an immutable unordered collection of unique elements."
   ]
  },
  {
   "cell_type": "code",
   "execution_count": 217,
   "id": "eb52a2f0",
   "metadata": {},
   "outputs": [],
   "source": [
    "x=frozenset([1,2,3,4,\"vineet\",'True',\"vineet\",4,3.4])"
   ]
  },
  {
   "cell_type": "code",
   "execution_count": 218,
   "id": "0b6936e6",
   "metadata": {},
   "outputs": [
    {
     "data": {
      "text/plain": [
       "frozenset({1, 2, 3, 3.4, 4, 'True', 'vineet'})"
      ]
     },
     "execution_count": 218,
     "metadata": {},
     "output_type": "execute_result"
    }
   ],
   "source": [
    "x"
   ]
  },
  {
   "cell_type": "code",
   "execution_count": null,
   "id": "f6db9b1f",
   "metadata": {},
   "outputs": [],
   "source": []
  },
  {
   "cell_type": "code",
   "execution_count": null,
   "id": "3a14eba9",
   "metadata": {},
   "outputs": [],
   "source": []
  }
 ],
 "metadata": {
  "kernelspec": {
   "display_name": "Python 3 (ipykernel)",
   "language": "python",
   "name": "python3"
  },
  "language_info": {
   "codemirror_mode": {
    "name": "ipython",
    "version": 3
   },
   "file_extension": ".py",
   "mimetype": "text/x-python",
   "name": "python",
   "nbconvert_exporter": "python",
   "pygments_lexer": "ipython3",
   "version": "3.9.7"
  }
 },
 "nbformat": 4,
 "nbformat_minor": 5
}
