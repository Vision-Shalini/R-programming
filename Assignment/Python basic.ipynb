{
 "cells": [
  {
   "cell_type": "markdown",
   "id": "09f413ae",
   "metadata": {},
   "source": [
    "# Agenda"
   ]
  },
  {
   "cell_type": "markdown",
   "id": "24a7ef9e",
   "metadata": {},
   "source": [
    "# Variable\n",
    "- Variable are used to temprary storage data values. varriables are reference of value."
   ]
  },
  {
   "cell_type": "code",
   "execution_count": 1,
   "id": "fe914929",
   "metadata": {},
   "outputs": [],
   "source": [
    "#creating a variable\n",
    "a=20"
   ]
  },
  {
   "cell_type": "code",
   "execution_count": 2,
   "id": "e166e122",
   "metadata": {},
   "outputs": [
    {
     "data": {
      "text/plain": [
       "int"
      ]
     },
     "execution_count": 2,
     "metadata": {},
     "output_type": "execute_result"
    }
   ],
   "source": [
    "type(a)"
   ]
  },
  {
   "cell_type": "markdown",
   "id": "3b80f04f",
   "metadata": {},
   "source": [
    "## Scope of variable\n",
    "- Global variable\n",
    "- local variable"
   ]
  },
  {
   "cell_type": "markdown",
   "id": "32acb352",
   "metadata": {},
   "source": [
    "# data type\n",
    "- Each variable is associated with a data type like-->int,float,string,bool"
   ]
  },
  {
   "cell_type": "code",
   "execution_count": 3,
   "id": "c6eef266",
   "metadata": {},
   "outputs": [
    {
     "data": {
      "text/plain": [
       "int"
      ]
     },
     "execution_count": 3,
     "metadata": {},
     "output_type": "execute_result"
    }
   ],
   "source": [
    "a=20\n",
    "type(a)"
   ]
  },
  {
   "cell_type": "markdown",
   "id": "d6be965f",
   "metadata": {},
   "source": [
    "## Type conversion \n",
    "-Type conversion is used to change one data type to another data type."
   ]
  },
  {
   "cell_type": "code",
   "execution_count": 4,
   "id": "d18f1907",
   "metadata": {},
   "outputs": [
    {
     "data": {
      "text/plain": [
       "int"
      ]
     },
     "execution_count": 4,
     "metadata": {},
     "output_type": "execute_result"
    }
   ],
   "source": [
    "a=20\n",
    "type(a)"
   ]
  },
  {
   "cell_type": "code",
   "execution_count": 5,
   "id": "19206917",
   "metadata": {},
   "outputs": [
    {
     "data": {
      "text/plain": [
       "str"
      ]
     },
     "execution_count": 5,
     "metadata": {},
     "output_type": "execute_result"
    }
   ],
   "source": [
    "b=str(a)\n",
    "type(b)"
   ]
  },
  {
   "cell_type": "markdown",
   "id": "7db2b6b0",
   "metadata": {},
   "source": [
    "# Operator"
   ]
  },
  {
   "cell_type": "markdown",
   "id": "5438af51",
   "metadata": {},
   "source": [
    "### 1. Arithmetic Operator\n",
    "- (+) :-Used to addition \n",
    "- (-) :-Used to Subtraction\n",
    "- (*) :-Used to Multiplication\n",
    "- (/) :-Used to division\n",
    "- (%) :-Used to get **reminder**\n",
    "- (**):-Used to get Exponent\n",
    "- (//):-Used to get floor division in thos division we get integer value."
   ]
  },
  {
   "cell_type": "code",
   "execution_count": 6,
   "id": "d9523821",
   "metadata": {},
   "outputs": [],
   "source": [
    "#Creating variable \n",
    "x=22\n",
    "y=5"
   ]
  },
  {
   "cell_type": "code",
   "execution_count": 15,
   "id": "a88f3fd6",
   "metadata": {},
   "outputs": [
    {
     "data": {
      "text/plain": [
       "2"
      ]
     },
     "execution_count": 15,
     "metadata": {},
     "output_type": "execute_result"
    }
   ],
   "source": [
    "#using reminder operator\n",
    "x%y"
   ]
  },
  {
   "cell_type": "code",
   "execution_count": 13,
   "id": "1800cbe3",
   "metadata": {},
   "outputs": [
    {
     "data": {
      "text/plain": [
       "5153632"
      ]
     },
     "execution_count": 13,
     "metadata": {},
     "output_type": "execute_result"
    }
   ],
   "source": [
    "#using exponent operator\n",
    "x**y"
   ]
  },
  {
   "cell_type": "code",
   "execution_count": 16,
   "id": "c1534437",
   "metadata": {},
   "outputs": [
    {
     "data": {
      "text/plain": [
       "4"
      ]
     },
     "execution_count": 16,
     "metadata": {},
     "output_type": "execute_result"
    }
   ],
   "source": [
    "#using floor operator\n",
    "x//y"
   ]
  },
  {
   "cell_type": "markdown",
   "id": "54512d81",
   "metadata": {},
   "source": [
    "### 2.Assignment Operator\n",
    "- =  :- Equal to operator\n",
    "- += :- Add equal to operator\n",
    "- -= :- Sub equal to operator\n",
    "- /= :- Division equal to operator\n",
    "- %= :- Reminder equal to operator\n",
    "- //=:- Floor equal to operator"
   ]
  },
  {
   "cell_type": "code",
   "execution_count": 17,
   "id": "b81ff344",
   "metadata": {},
   "outputs": [],
   "source": [
    "#(=) operator\n",
    "a=20"
   ]
  },
  {
   "cell_type": "code",
   "execution_count": 19,
   "id": "ce1df693",
   "metadata": {},
   "outputs": [
    {
     "name": "stdout",
     "output_type": "stream",
     "text": [
      "25\n"
     ]
    }
   ],
   "source": [
    "#(+=) operator--x+=y-->x=x+y\n",
    "x=20\n",
    "y=5\n",
    "x+=y\n",
    "print(x)"
   ]
  },
  {
   "cell_type": "markdown",
   "id": "79bf9921",
   "metadata": {},
   "source": [
    "### 3. Comparision Operator\n",
    "- Equal to operator :==\n",
    "- Not equal to operator :!=\n",
    "- Greater than operator :>\n",
    "- Smaller than operator :<\n",
    "- Greater than equal to :>=\n",
    "- Smaller than eual to : <="
   ]
  },
  {
   "cell_type": "code",
   "execution_count": 20,
   "id": "282c23a3",
   "metadata": {},
   "outputs": [
    {
     "data": {
      "text/plain": [
       "True"
      ]
     },
     "execution_count": 20,
     "metadata": {},
     "output_type": "execute_result"
    }
   ],
   "source": [
    "20==20"
   ]
  },
  {
   "cell_type": "code",
   "execution_count": 21,
   "id": "60a1888a",
   "metadata": {},
   "outputs": [
    {
     "data": {
      "text/plain": [
       "False"
      ]
     },
     "execution_count": 21,
     "metadata": {},
     "output_type": "execute_result"
    }
   ],
   "source": [
    "2==3"
   ]
  },
  {
   "cell_type": "code",
   "execution_count": 22,
   "id": "c825cce2",
   "metadata": {},
   "outputs": [
    {
     "data": {
      "text/plain": [
       "True"
      ]
     },
     "execution_count": 22,
     "metadata": {},
     "output_type": "execute_result"
    }
   ],
   "source": [
    "2!=3"
   ]
  },
  {
   "cell_type": "code",
   "execution_count": 23,
   "id": "a21daea1",
   "metadata": {},
   "outputs": [
    {
     "data": {
      "text/plain": [
       "True"
      ]
     },
     "execution_count": 23,
     "metadata": {},
     "output_type": "execute_result"
    }
   ],
   "source": [
    "20!=30"
   ]
  },
  {
   "cell_type": "code",
   "execution_count": 24,
   "id": "b9dc9ede",
   "metadata": {},
   "outputs": [
    {
     "data": {
      "text/plain": [
       "True"
      ]
     },
     "execution_count": 24,
     "metadata": {},
     "output_type": "execute_result"
    }
   ],
   "source": [
    "20>18"
   ]
  },
  {
   "cell_type": "code",
   "execution_count": 25,
   "id": "f2c8f3a6",
   "metadata": {},
   "outputs": [
    {
     "data": {
      "text/plain": [
       "False"
      ]
     },
     "execution_count": 25,
     "metadata": {},
     "output_type": "execute_result"
    }
   ],
   "source": [
    "21>23"
   ]
  },
  {
   "cell_type": "code",
   "execution_count": 26,
   "id": "8f24c1b7",
   "metadata": {},
   "outputs": [
    {
     "data": {
      "text/plain": [
       "True"
      ]
     },
     "execution_count": 26,
     "metadata": {},
     "output_type": "execute_result"
    }
   ],
   "source": [
    "21<23"
   ]
  },
  {
   "cell_type": "code",
   "execution_count": 27,
   "id": "b1cf5019",
   "metadata": {},
   "outputs": [
    {
     "data": {
      "text/plain": [
       "True"
      ]
     },
     "execution_count": 27,
     "metadata": {},
     "output_type": "execute_result"
    }
   ],
   "source": [
    "10<=23"
   ]
  },
  {
   "cell_type": "markdown",
   "id": "96226fde",
   "metadata": {},
   "source": [
    "### 4. Logical Operator\n",
    "- **and Operator(&)**:- Condition is true when both side is true.\n",
    "- **or operator(|)** :-condition is true if any side is true.\n",
    "- **not operator** :- Used to fail conditon"
   ]
  },
  {
   "cell_type": "code",
   "execution_count": 28,
   "id": "59c09e67",
   "metadata": {},
   "outputs": [
    {
     "data": {
      "text/plain": [
       "True"
      ]
     },
     "execution_count": 28,
     "metadata": {},
     "output_type": "execute_result"
    }
   ],
   "source": [
    "# And operator\n",
    "x=5\n",
    "x>4 and x<8"
   ]
  },
  {
   "cell_type": "code",
   "execution_count": 29,
   "id": "800ff73d",
   "metadata": {},
   "outputs": [
    {
     "data": {
      "text/plain": [
       "False"
      ]
     },
     "execution_count": 29,
     "metadata": {},
     "output_type": "execute_result"
    }
   ],
   "source": [
    "x>6 and x<8"
   ]
  },
  {
   "cell_type": "code",
   "execution_count": 30,
   "id": "d83fb383",
   "metadata": {},
   "outputs": [
    {
     "data": {
      "text/plain": [
       "True"
      ]
     },
     "execution_count": 30,
     "metadata": {},
     "output_type": "execute_result"
    }
   ],
   "source": [
    "#OR operator\n",
    "x>6 or x<8"
   ]
  },
  {
   "cell_type": "code",
   "execution_count": 34,
   "id": "a0443d3f",
   "metadata": {},
   "outputs": [
    {
     "data": {
      "text/plain": [
       "False"
      ]
     },
     "execution_count": 34,
     "metadata": {},
     "output_type": "execute_result"
    }
   ],
   "source": [
    "#NOT operator\n",
    "x=True\n",
    "not x"
   ]
  },
  {
   "cell_type": "markdown",
   "id": "3f3072d3",
   "metadata": {},
   "source": [
    "### 5. Identity Operator\n",
    "- **is** Operator\n",
    "- **is not** Operator"
   ]
  },
  {
   "cell_type": "code",
   "execution_count": 35,
   "id": "6055edc5",
   "metadata": {},
   "outputs": [
    {
     "data": {
      "text/plain": [
       "True"
      ]
     },
     "execution_count": 35,
     "metadata": {},
     "output_type": "execute_result"
    }
   ],
   "source": [
    "#Using is operator\n",
    "x=23\n",
    "y=23\n",
    "x is y"
   ]
  },
  {
   "cell_type": "code",
   "execution_count": 36,
   "id": "726e7cdd",
   "metadata": {},
   "outputs": [
    {
     "data": {
      "text/plain": [
       "False"
      ]
     },
     "execution_count": 36,
     "metadata": {},
     "output_type": "execute_result"
    }
   ],
   "source": [
    "z=34\n",
    "x is z"
   ]
  },
  {
   "cell_type": "code",
   "execution_count": 37,
   "id": "c90ee603",
   "metadata": {},
   "outputs": [
    {
     "data": {
      "text/plain": [
       "True"
      ]
     },
     "execution_count": 37,
     "metadata": {},
     "output_type": "execute_result"
    }
   ],
   "source": [
    "#Using is not operator\n",
    "x is not z"
   ]
  },
  {
   "cell_type": "markdown",
   "id": "6f3b961f",
   "metadata": {},
   "source": [
    "### 6. Membership operator\n",
    "- **in** operator\n",
    "- **not in** operator"
   ]
  },
  {
   "cell_type": "code",
   "execution_count": 38,
   "id": "2c28898f",
   "metadata": {},
   "outputs": [
    {
     "data": {
      "text/plain": [
       "True"
      ]
     },
     "execution_count": 38,
     "metadata": {},
     "output_type": "execute_result"
    }
   ],
   "source": [
    "#Creating a tuple and using IN operator\n",
    "a=(3,6,9,5)\n",
    "\n",
    "6 in a"
   ]
  },
  {
   "cell_type": "code",
   "execution_count": 39,
   "id": "29dd83de",
   "metadata": {},
   "outputs": [
    {
     "data": {
      "text/plain": [
       "False"
      ]
     },
     "execution_count": 39,
     "metadata": {},
     "output_type": "execute_result"
    }
   ],
   "source": [
    "7 in a"
   ]
  },
  {
   "cell_type": "code",
   "execution_count": 40,
   "id": "1f4f68b2",
   "metadata": {},
   "outputs": [
    {
     "data": {
      "text/plain": [
       "True"
      ]
     },
     "execution_count": 40,
     "metadata": {},
     "output_type": "execute_result"
    }
   ],
   "source": [
    "# Using not in oprerator in tuple\n",
    "\n",
    "7 not in a"
   ]
  },
  {
   "cell_type": "markdown",
   "id": "a1a9a132",
   "metadata": {},
   "source": [
    "# Python String\n",
    "- String are the sequence of characters and numbers enclosed by single quotes ' ' or double quotes \"\".  "
   ]
  },
  {
   "cell_type": "code",
   "execution_count": 42,
   "id": "db901a69",
   "metadata": {},
   "outputs": [
    {
     "data": {
      "text/plain": [
       "str"
      ]
     },
     "execution_count": 42,
     "metadata": {},
     "output_type": "execute_result"
    }
   ],
   "source": [
    "# creating a string variable\n",
    "a=\"my name is vineet kumar\"\n",
    "type(a)"
   ]
  },
  {
   "cell_type": "markdown",
   "id": "b3209bfa",
   "metadata": {},
   "source": [
    "- **Subsetting String**\n",
    "       - In python indexing start from 0"
   ]
  },
  {
   "cell_type": "code",
   "execution_count": 44,
   "id": "41f1f8a2",
   "metadata": {},
   "outputs": [
    {
     "data": {
      "text/plain": [
       "'m'"
      ]
     },
     "execution_count": 44,
     "metadata": {},
     "output_type": "execute_result"
    }
   ],
   "source": [
    "# for asseccing first element of string\n",
    "a[0]"
   ]
  },
  {
   "cell_type": "code",
   "execution_count": 45,
   "id": "99555c09",
   "metadata": {},
   "outputs": [
    {
     "data": {
      "text/plain": [
       "'r'"
      ]
     },
     "execution_count": 45,
     "metadata": {},
     "output_type": "execute_result"
    }
   ],
   "source": [
    "a[-1]"
   ]
  },
  {
   "cell_type": "markdown",
   "id": "efb77b60",
   "metadata": {},
   "source": [
    "- **Siclising String**"
   ]
  },
  {
   "cell_type": "code",
   "execution_count": 46,
   "id": "336d7a4c",
   "metadata": {},
   "outputs": [
    {
     "data": {
      "text/plain": [
       "'my name'"
      ]
     },
     "execution_count": 46,
     "metadata": {},
     "output_type": "execute_result"
    }
   ],
   "source": [
    "a[0:7]"
   ]
  },
  {
   "cell_type": "code",
   "execution_count": 47,
   "id": "e6fb4b05",
   "metadata": {},
   "outputs": [
    {
     "data": {
      "text/plain": [
       "'my name'"
      ]
     },
     "execution_count": 47,
     "metadata": {},
     "output_type": "execute_result"
    }
   ],
   "source": [
    "a[:7]"
   ]
  },
  {
   "cell_type": "markdown",
   "id": "d2af3ac5",
   "metadata": {},
   "source": [
    "### String Function\n",
    "- Function is a pieace of reusable code that is used for specific work."
   ]
  },
  {
   "cell_type": "code",
   "execution_count": 50,
   "id": "266d8bb6",
   "metadata": {},
   "outputs": [
    {
     "data": {
      "text/plain": [
       "'my name is vineet kumar'"
      ]
     },
     "execution_count": 50,
     "metadata": {},
     "output_type": "execute_result"
    }
   ],
   "source": [
    "a"
   ]
  },
  {
   "cell_type": "code",
   "execution_count": 51,
   "id": "03e01cad",
   "metadata": {},
   "outputs": [
    {
     "data": {
      "text/plain": [
       "23"
      ]
     },
     "execution_count": 51,
     "metadata": {},
     "output_type": "execute_result"
    }
   ],
   "source": [
    "# to find the lenght of string\n",
    "len(a)"
   ]
  },
  {
   "cell_type": "code",
   "execution_count": 52,
   "id": "91645908",
   "metadata": {},
   "outputs": [
    {
     "data": {
      "text/plain": [
       "'my name is vineet kumar'"
      ]
     },
     "execution_count": 52,
     "metadata": {},
     "output_type": "execute_result"
    }
   ],
   "source": [
    "# to make all character lower\n",
    "a.lower()"
   ]
  },
  {
   "cell_type": "code",
   "execution_count": 53,
   "id": "458c7234",
   "metadata": {},
   "outputs": [
    {
     "data": {
      "text/plain": [
       "'MY NAME IS VINEET KUMAR'"
      ]
     },
     "execution_count": 53,
     "metadata": {},
     "output_type": "execute_result"
    }
   ],
   "source": [
    "#To make all character upper\n",
    "a.upper()"
   ]
  },
  {
   "cell_type": "code",
   "execution_count": 57,
   "id": "868f6ca9",
   "metadata": {},
   "outputs": [
    {
     "data": {
      "text/plain": [
       "'My name is vineet kumar'"
      ]
     },
     "execution_count": 57,
     "metadata": {},
     "output_type": "execute_result"
    }
   ],
   "source": [
    "#To make first character upper  and other small\n",
    "a.capitalize()"
   ]
  },
  {
   "cell_type": "code",
   "execution_count": 58,
   "id": "edc4136a",
   "metadata": {},
   "outputs": [
    {
     "data": {
      "text/plain": [
       "11"
      ]
     },
     "execution_count": 58,
     "metadata": {},
     "output_type": "execute_result"
    }
   ],
   "source": [
    "#find index number \n",
    "a.find(\"v\")"
   ]
  },
  {
   "cell_type": "code",
   "execution_count": 59,
   "id": "3d3101e0",
   "metadata": {},
   "outputs": [
    {
     "data": {
      "text/plain": [
       "18"
      ]
     },
     "execution_count": 59,
     "metadata": {},
     "output_type": "execute_result"
    }
   ],
   "source": [
    "a.find(\"kumar\")"
   ]
  },
  {
   "cell_type": "code",
   "execution_count": 60,
   "id": "337d7c50",
   "metadata": {},
   "outputs": [
    {
     "data": {
      "text/plain": [
       "18"
      ]
     },
     "execution_count": 60,
     "metadata": {},
     "output_type": "execute_result"
    }
   ],
   "source": [
    "a.find('k')"
   ]
  },
  {
   "cell_type": "code",
   "execution_count": 61,
   "id": "091b901e",
   "metadata": {},
   "outputs": [
    {
     "data": {
      "text/plain": [
       "3"
      ]
     },
     "execution_count": 61,
     "metadata": {},
     "output_type": "execute_result"
    }
   ],
   "source": [
    "# count element in string\n",
    "a.count(\"e\")"
   ]
  },
  {
   "cell_type": "code",
   "execution_count": 62,
   "id": "c67795fd",
   "metadata": {},
   "outputs": [
    {
     "data": {
      "text/plain": [
       "2"
      ]
     },
     "execution_count": 62,
     "metadata": {},
     "output_type": "execute_result"
    }
   ],
   "source": [
    "a.count(\"a\")"
   ]
  },
  {
   "cell_type": "code",
   "execution_count": 64,
   "id": "86e186f7",
   "metadata": {},
   "outputs": [
    {
     "data": {
      "text/plain": [
       "'my name is vineet Prajapati'"
      ]
     },
     "execution_count": 64,
     "metadata": {},
     "output_type": "execute_result"
    }
   ],
   "source": [
    "# change the element of string\n",
    "a.replace(\"kumar\",\"Prajapati\")"
   ]
  },
  {
   "cell_type": "code",
   "execution_count": 65,
   "id": "97d76f47",
   "metadata": {},
   "outputs": [
    {
     "data": {
      "text/plain": [
       "['my', 'name', 'is', 'vineet', 'kumar']"
      ]
     },
     "execution_count": 65,
     "metadata": {},
     "output_type": "execute_result"
    }
   ],
   "source": [
    "# split the string \n",
    "\n",
    "a.split(\" \")"
   ]
  },
  {
   "cell_type": "code",
   "execution_count": 66,
   "id": "ad78a6ee",
   "metadata": {},
   "outputs": [
    {
     "data": {
      "text/plain": [
       "True"
      ]
     },
     "execution_count": 66,
     "metadata": {},
     "output_type": "execute_result"
    }
   ],
   "source": [
    "# to check lower\n",
    "a.islower()"
   ]
  },
  {
   "cell_type": "code",
   "execution_count": 67,
   "id": "376007dd",
   "metadata": {},
   "outputs": [
    {
     "data": {
      "text/plain": [
       "False"
      ]
     },
     "execution_count": 67,
     "metadata": {},
     "output_type": "execute_result"
    }
   ],
   "source": [
    "# To check upper\n",
    "a.isupper()"
   ]
  },
  {
   "cell_type": "code",
   "execution_count": 73,
   "id": "0653587b",
   "metadata": {},
   "outputs": [
    {
     "data": {
      "text/plain": [
       "'   vineet kumar'"
      ]
     },
     "execution_count": 73,
     "metadata": {},
     "output_type": "execute_result"
    }
   ],
   "source": [
    "# creating string  variable with spaces \n",
    "\n",
    "x=\"   vineet kumar\"\n",
    "x"
   ]
  },
  {
   "cell_type": "code",
   "execution_count": 72,
   "id": "06cb258e",
   "metadata": {},
   "outputs": [
    {
     "data": {
      "text/plain": [
       "'vineet kumar'"
      ]
     },
     "execution_count": 72,
     "metadata": {},
     "output_type": "execute_result"
    }
   ],
   "source": [
    "#for removing spaces \n",
    "x.strip()"
   ]
  },
  {
   "cell_type": "code",
   "execution_count": 78,
   "id": "c4277788",
   "metadata": {},
   "outputs": [
    {
     "name": "stdout",
     "output_type": "stream",
     "text": [
      "red  green  yellow  blue\n"
     ]
    }
   ],
   "source": [
    "#Using join Method\n",
    "color=[\"red\",\"green\",\"yellow\",\"blue\"]\n",
    "x=\"  \".join(color)\n",
    "print(x)"
   ]
  },
  {
   "cell_type": "code",
   "execution_count": null,
   "id": "206eb1a9",
   "metadata": {},
   "outputs": [],
   "source": []
  }
 ],
 "metadata": {
  "kernelspec": {
   "display_name": "Python 3 (ipykernel)",
   "language": "python",
   "name": "python3"
  },
  "language_info": {
   "codemirror_mode": {
    "name": "ipython",
    "version": 3
   },
   "file_extension": ".py",
   "mimetype": "text/x-python",
   "name": "python",
   "nbconvert_exporter": "python",
   "pygments_lexer": "ipython3",
   "version": "3.9.7"
  }
 },
 "nbformat": 4,
 "nbformat_minor": 5
}
